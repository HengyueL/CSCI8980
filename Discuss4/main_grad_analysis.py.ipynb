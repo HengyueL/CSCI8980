{
 "cells": [
  {
   "cell_type": "code",
   "execution_count": 1,
   "metadata": {},
   "outputs": [],
   "source": [
    "import os.path\n",
    "import random\n",
    "import numpy as np\n",
    "import torch\n",
    "import matplotlib.pyplot as plt\n",
    "from dataset import SimpleRegression\n",
    "from models import SigmoidNet, ReLUNet, AbsNet, SigmoidNormNet, ReLUNormNet, weights_init_normal\n",
    "from torch.utils.data import DataLoader\n",
    "from main import bump_func\n",
    "import torch.nn as nn\n",
    "\n",
    "def plot_3d(array, txt=None):\n",
    "    x = np.arange(0, array.shape[0])\n",
    "    y = np.arange(0, array.shape[1])\n",
    "    xv, vy = np.meshgrid(x, y)\n",
    "    \n",
    "    xv = np.reshape(xv, [-1])\n",
    "    vy = np.reshape(vy, [-1])\n",
    "    data = np.reshape(array, [-1])\n",
    "\n",
    "    fig = plt.figure(figsize=(9, 9))\n",
    "    ax = plt.axes(projection=\"3d\")\n",
    "    ax.scatter3D(xv, vy, np.abs(data), alpha=0.6, label=\"abs_weights\")\n",
    "    ax.set_xlabel(\"Number of Iteration\")\n",
    "    ax.set_ylabel(\"Neuron Index\")\n",
    "    ax.set_zlabel(\"Grad (abs) Value\")\n",
    "    ax.grid()\n",
    "    ax.legend()\n",
    "    if txt is not None:\n",
    "        ax.set_title(txt)\n",
    "    plt.show()"
   ]
  },
  {
   "cell_type": "code",
   "execution_count": 2,
   "metadata": {},
   "outputs": [],
   "source": [
    "# === Config for reproduction\n",
    "seed = 0\n",
    "torch.manual_seed(seed)\n",
    "random.seed(seed)\n",
    "np.random.seed(seed)\n",
    "device = torch.device(\"cuda\" if torch.cuda.is_available() else \"cpu\")\n",
    "\n",
    "# === Exp setups\n",
    "total_epoch = 100\n",
    "num_data = 2000\n",
    "num_neurons = 24\n",
    "num_layers = 8\n",
    "net_type = \"SigmoidNorm\"\n",
    "opt_type = \"Adam\"\n",
    "\n",
    "# === Visualization Folder Initialization\n",
    "save_fig_dir = os.path.join('./', \"grad_vis_%d_%s\" % (num_data, opt_type))\n",
    "os.makedirs(save_fig_dir, exist_ok=True)\n",
    "save_model_dir = os.path.join('./', \"grad_%d_%s\" % (num_data, opt_type))\n",
    "os.makedirs(save_model_dir, exist_ok=True)\n",
    "\n",
    "\n"
   ]
  },
  {
   "cell_type": "code",
   "execution_count": 3,
   "metadata": {},
   "outputs": [],
   "source": [
    "# === Init Dataset\n",
    "x_1 = np.linspace(0, 1, num=num_data, endpoint=True)\n",
    "y_1 = bump_func(x_1)\n",
    "train_set_1 = SimpleRegression(x_1, y_1)\n",
    "train_loader_1 = DataLoader(train_set_1, batch_size=64, shuffle=True,\n",
    "                            num_workers=2)\n",
    "# === Init NN\n",
    "if net_type == \"ReLU\":\n",
    "    net = ReLUNet(hidden_neuron=num_neurons,\n",
    "                  num_layer=num_layers)  # The visual proof network\n",
    "elif net_type == \"Sigmoid\":\n",
    "    net = SigmoidNet(hidden_neuron=num_neurons,\n",
    "                     num_layer=num_layers)\n",
    "elif net_type == \"Leaky\":\n",
    "    net = ReLUNet(hidden_neuron=num_neurons,\n",
    "                  num_layer=num_layers,\n",
    "                  activation=\"leaky\")\n",
    "elif net_type == \"Abs\":\n",
    "    net = AbsNet(hidden_neuron=num_neurons,\n",
    "                 num_layer=num_layers, )\n",
    "elif net_type == \"SigmoidNorm\":\n",
    "    net = SigmoidNormNet(hidden_neuron=num_neurons,\n",
    "                         num_layer=num_layers)\n",
    "elif net_type == \"LeakyNorm\":\n",
    "    net = ReLUNormNet(hidden_neuron=num_neurons,\n",
    "                      num_layer=num_layers,\n",
    "                      activation=\"leaky\")\n",
    "else:\n",
    "    print(\"Undefined NN type. Check settings.\")\n",
    "\n",
    "# Optimizer Does not affect gradient\n",
    "# but here use the optimizer to simulate realistic training grad component\n",
    "net.apply(weights_init_normal)\n",
    "if opt_type == \"Adam\":\n",
    "    optimizer = torch.optim.Adam(net.parameters(), lr=0.001)\n",
    "elif opt_type == \"SGD\":\n",
    "    optimizer = torch.optim.SGD(net.parameters(), lr=1)\n",
    "else:\n",
    "    print(\"Need to specify the optimizer\")\n",
    "net.to(device)\n",
    "net.train()\n",
    "\n",
    "# Exponential Decay Learning rate\n",
    "decayRate = 0.96\n",
    "lr_scheduler = torch.optim.lr_scheduler.ExponentialLR(optimizer=optimizer, gamma=decayRate)\n",
    "loss_func = torch.nn.MSELoss()\n",
    "\n",
    "save_dir = os.path.join(save_model_dir, \"%s_L%d_N%d\" % (net_type,\n",
    "                                                        num_layers,\n",
    "                                                        num_neurons))\n",
    "os.makedirs(save_dir, exist_ok=True)"
   ]
  },
  {
   "cell_type": "code",
   "execution_count": 4,
   "metadata": {},
   "outputs": [
    {
     "name": "stdout",
     "output_type": "stream",
     "text": [
      "Check Network Type: \n",
      "<class 'models.SigmoidNormNet'>\n",
      "[Epoch 0] Total Training Loss:6.853109754621983\n",
      "[Epoch 1] Total Training Loss:2.037920329719782\n",
      "[Epoch 2] Total Training Loss:0.9254287742078304\n",
      "[Epoch 3] Total Training Loss:0.6550344014540315\n",
      "[Epoch 4] Total Training Loss:0.656675596605055\n",
      "[Epoch 5] Total Training Loss:0.4017042254563421\n",
      "[Epoch 6] Total Training Loss:0.4113888358697295\n",
      "[Epoch 7] Total Training Loss:0.6215391044970602\n",
      "[Epoch 8] Total Training Loss:0.4669876788102556\n",
      "[Epoch 9] Total Training Loss:0.42000841797562316\n",
      "[Epoch 10] Total Training Loss:0.3114074107725173\n",
      "[Epoch 11] Total Training Loss:0.3290479215211235\n",
      "[Epoch 12] Total Training Loss:0.29577547809640237\n",
      "[Epoch 13] Total Training Loss:0.3789262882201001\n",
      "[Epoch 14] Total Training Loss:0.24984850286273286\n",
      "[Epoch 15] Total Training Loss:0.4136248227005126\n",
      "[Epoch 16] Total Training Loss:0.30524118362518493\n",
      "[Epoch 17] Total Training Loss:0.2839863782719476\n",
      "[Epoch 18] Total Training Loss:0.33406061738787685\n",
      "[Epoch 19] Total Training Loss:0.3440734427276766\n",
      "[Epoch 20] Total Training Loss:0.16869604634848656\n",
      "[Epoch 21] Total Training Loss:0.20720678580619278\n",
      "[Epoch 22] Total Training Loss:0.18445494003572094\n",
      "[Epoch 23] Total Training Loss:0.21501213827286847\n",
      "[Epoch 24] Total Training Loss:0.23210764290342922\n",
      "[Epoch 25] Total Training Loss:0.20939817652106285\n",
      "[Epoch 26] Total Training Loss:0.2911006481626828\n",
      "[Epoch 27] Total Training Loss:0.20851859150570817\n",
      "[Epoch 28] Total Training Loss:0.1589221672147687\n",
      "[Epoch 29] Total Training Loss:0.24827824885505834\n",
      "[Epoch 30] Total Training Loss:0.2574875766222249\n",
      "[Epoch 31] Total Training Loss:0.21538178957416676\n",
      "[Epoch 32] Total Training Loss:0.18874486155618797\n",
      "[Epoch 33] Total Training Loss:0.15641517723270226\n",
      "[Epoch 34] Total Training Loss:0.1833231884520501\n",
      "[Epoch 35] Total Training Loss:0.17832083812754718\n",
      "[Epoch 36] Total Training Loss:0.1278407991549102\n",
      "[Epoch 37] Total Training Loss:0.2558542439182929\n",
      "[Epoch 38] Total Training Loss:0.1200540594118138\n",
      "[Epoch 39] Total Training Loss:0.14092716712275433\n",
      "[Epoch 40] Total Training Loss:0.12304950815905613\n",
      "[Epoch 41] Total Training Loss:0.13012381493581415\n",
      "[Epoch 42] Total Training Loss:0.1542982439405023\n",
      "[Epoch 43] Total Training Loss:0.11737877152290821\n",
      "[Epoch 44] Total Training Loss:0.14249073657356348\n",
      "[Epoch 45] Total Training Loss:0.15811792184831575\n",
      "[Epoch 46] Total Training Loss:0.19240300544697675\n",
      "[Epoch 47] Total Training Loss:0.12484250667694141\n",
      "[Epoch 48] Total Training Loss:0.1334476312804327\n",
      "[Epoch 49] Total Training Loss:0.19518091243844538\n",
      "[Epoch 50] Total Training Loss:0.11929268549113203\n",
      "[Epoch 51] Total Training Loss:0.11143937952510896\n",
      "[Epoch 52] Total Training Loss:0.10255470350068663\n",
      "[Epoch 53] Total Training Loss:0.10306540027340816\n",
      "[Epoch 54] Total Training Loss:0.12924909839284737\n",
      "[Epoch 55] Total Training Loss:0.09222228584803815\n",
      "[Epoch 56] Total Training Loss:0.09942292146911313\n",
      "[Epoch 57] Total Training Loss:0.10400612124840336\n",
      "[Epoch 58] Total Training Loss:0.10635145207720598\n",
      "[Epoch 59] Total Training Loss:0.09687510117510101\n",
      "[Epoch 60] Total Training Loss:0.10702976504308026\n",
      "[Epoch 61] Total Training Loss:0.10164294060632528\n",
      "[Epoch 62] Total Training Loss:0.09259846413260675\n",
      "[Epoch 63] Total Training Loss:0.09821750726405298\n",
      "[Epoch 64] Total Training Loss:0.09972163245402044\n",
      "[Epoch 65] Total Training Loss:0.09548996121884556\n",
      "[Epoch 66] Total Training Loss:0.08784486060767449\n",
      "[Epoch 67] Total Training Loss:0.11392611515384488\n",
      "[Epoch 68] Total Training Loss:0.11816910156107951\n",
      "[Epoch 69] Total Training Loss:0.097263528075473\n",
      "[Epoch 70] Total Training Loss:0.09446060751361074\n",
      "[Epoch 71] Total Training Loss:0.08031278529233532\n",
      "[Epoch 72] Total Training Loss:0.08504728979733045\n",
      "[Epoch 73] Total Training Loss:0.09179665379633661\n",
      "[Epoch 74] Total Training Loss:0.0889888443689415\n",
      "[Epoch 75] Total Training Loss:0.08966129505097342\n",
      "[Epoch 76] Total Training Loss:0.08371721162802714\n",
      "[Epoch 77] Total Training Loss:0.11505976554690278\n",
      "[Epoch 78] Total Training Loss:0.11588627200126211\n",
      "[Epoch 79] Total Training Loss:0.07726922244137313\n",
      "[Epoch 80] Total Training Loss:0.08414619148106794\n",
      "[Epoch 81] Total Training Loss:0.08141784920826467\n",
      "[Epoch 82] Total Training Loss:0.07392576645111149\n",
      "[Epoch 83] Total Training Loss:0.08106434994397205\n",
      "[Epoch 84] Total Training Loss:0.08555283404348302\n",
      "[Epoch 85] Total Training Loss:0.08854541707341923\n",
      "[Epoch 86] Total Training Loss:0.08807681880171003\n",
      "[Epoch 87] Total Training Loss:0.07494441387461848\n",
      "[Epoch 88] Total Training Loss:0.08617439631416346\n",
      "[Epoch 89] Total Training Loss:0.07833661976474104\n",
      "[Epoch 90] Total Training Loss:0.0776422588337482\n",
      "[Epoch 91] Total Training Loss:0.08563595826944947\n",
      "[Epoch 92] Total Training Loss:0.07629666967750381\n",
      "[Epoch 93] Total Training Loss:0.07405412220305152\n",
      "[Epoch 94] Total Training Loss:0.07234738144506991\n",
      "[Epoch 95] Total Training Loss:0.06859776728697398\n",
      "[Epoch 96] Total Training Loss:0.07649080212740955\n",
      "[Epoch 97] Total Training Loss:0.07455730850051623\n",
      "[Epoch 98] Total Training Loss:0.07070161470210223\n",
      "[Epoch 99] Total Training Loss:0.068584768828714\n"
     ]
    }
   ],
   "source": [
    "rank_log_1 = []\n",
    "rank_log_2 = []\n",
    "rank_log_3 = []\n",
    "rank_log_4 = []\n",
    "print(\"Check Network Type: \")\n",
    "print(type(net))\n",
    "\n",
    "for epoch in range(total_epoch):\n",
    "    epoch_loss = 0\n",
    "    for i, data in enumerate(train_loader_1):\n",
    "        optimizer.zero_grad()\n",
    "\n",
    "        input_tensor = data[\"input\"].to(device)\n",
    "        label_tensor = data[\"label\"].to(device)\n",
    "\n",
    "        output_tensor = net(input_tensor)\n",
    "        loss = loss_func(output_tensor, label_tensor)\n",
    "        loss.backward()\n",
    "        \n",
    "        # Plot Layer Weights\n",
    "        layer_list = list(net.fc.children())\n",
    "#         print(layer_list)\n",
    "\n",
    "        grad_1 = layer_list[3].weight.grad.data.detach().cpu().numpy()\n",
    "        grad_2 = layer_list[6].weight.grad.data.detach().cpu().numpy()\n",
    "        grad_3 = layer_list[9].weight.grad.data.detach().cpu().numpy()\n",
    "        grad_4 = layer_list[12].weight.grad.data.detach().cpu().numpy()\n",
    "        \n",
    "        \n",
    "        jacob_rank_1 = np.linalg.matrix_rank(grad_1)\n",
    "        jacob_rank_2 = np.linalg.matrix_rank(grad_2)\n",
    "        jacob_rank_3 = np.linalg.matrix_rank(grad_3)\n",
    "        jacob_rank_4 = np.linalg.matrix_rank(grad_4)\n",
    "        \n",
    "        rank_log_1.append(jacob_rank_1)\n",
    "        rank_log_2.append(jacob_rank_2)\n",
    "        rank_log_3.append(jacob_rank_3)\n",
    "        rank_log_4.append(jacob_rank_4)\n",
    "\n",
    "        # BackProp with Optimizer\n",
    "        optimizer.step()\n",
    "        epoch_loss += loss.item()\n",
    "    print(\"[Epoch {}] Total Training Loss:{}\".format(epoch, epoch_loss))\n",
    "    lr_scheduler.step()"
   ]
  },
  {
   "cell_type": "code",
   "execution_count": 7,
   "metadata": {},
   "outputs": [
    {
     "data": {
      "text/plain": [
       "<matplotlib.collections.PathCollection at 0x7fdfa842d9b0>"
      ]
     },
     "execution_count": 7,
     "metadata": {},
     "output_type": "execute_result"
    },
    {
     "data": {
      "image/png": "[encoded data removed]",
      "text/plain": [
       "<Figure size 432x288 with 1 Axes>"
      ]
     },
     "metadata": {
      "needs_background": "light"
     },
     "output_type": "display_data"
    }
   ],
   "source": [
    "# Now Plot the evolution of gradients during training\n",
    "# first_grad = np.asarray(first_weights_grad_log)\n",
    "# last_grad = np.asarray(last_weights_grad_log)\n",
    "\n",
    "# plot_3d(first_grad, txt=\"First Linear Layer Gradient\")\n",
    "# plot_3d(last_grad, txt=\"Last Linear Layer Gradient\")\n",
    "\n",
    "plt.scatter(np.arange(len(rank_log_1)), rank_log_1)"
   ]
  },
  {
   "cell_type": "code",
   "execution_count": 8,
   "metadata": {},
   "outputs": [
    {
     "data": {
      "text/plain": [
       "<matplotlib.collections.PathCollection at 0x7fdfa839ce80>"
      ]
     },
     "execution_count": 8,
     "metadata": {},
     "output_type": "execute_result"
    },
    {
     "data": {
      "image/png": "[encoded data removed]",
      "text/plain": [
       "<Figure size 432x288 with 1 Axes>"
      ]
     },
     "metadata": {
      "needs_background": "light"
     },
     "output_type": "display_data"
    }
   ],
   "source": [
    "plt.scatter(np.arange(len(rank_log_2)), rank_log_2)"
   ]
  },
  {
   "cell_type": "code",
   "execution_count": 9,
   "metadata": {},
   "outputs": [
    {
     "data": {
      "text/plain": [
       "<matplotlib.collections.PathCollection at 0x7fdfa8302d30>"
      ]
     },
     "execution_count": 9,
     "metadata": {},
     "output_type": "execute_result"
    },
    {
     "data": {
      "image/png": "[encoded data removed]",
      "text/plain": [
       "<Figure size 432x288 with 1 Axes>"
      ]
     },
     "metadata": {
      "needs_background": "light"
     },
     "output_type": "display_data"
    }
   ],
   "source": [
    "plt.scatter(np.arange(len(rank_log_3)), rank_log_3)"
   ]
  },
  {
   "cell_type": "code",
   "execution_count": 11,
   "metadata": {},
   "outputs": [
    {
     "data": {
      "text/plain": [
       "<matplotlib.collections.PathCollection at 0x7fdfa82f19b0>"
      ]
     },
     "execution_count": 11,
     "metadata": {},
     "output_type": "execute_result"
    },
    {
     "data": {
      "image/png": "[encoded data removed]",
      "text/plain": [
       "<Figure size 432x288 with 1 Axes>"
      ]
     },
     "metadata": {
      "needs_background": "light"
     },
     "output_type": "display_data"
    }
   ],
   "source": [
    "plt.scatter(np.arange(len(rank_log_4)), rank_log_4)"
   ]
  },
  {
   "cell_type": "code",
   "execution_count": null,
   "metadata": {},
   "outputs": [],
   "source": []
  }
 ],
 "metadata": {
  "kernelspec": {
   "display_name": "Python 3",
   "language": "python",
   "name": "python3"
  },
  "language_info": {
   "codemirror_mode": {
    "name": "ipython",
    "version": 3
   },
   "file_extension": ".py",
   "mimetype": "text/x-python",
   "name": "python",
   "nbconvert_exporter": "python",
   "pygments_lexer": "ipython3",
   "version": "3.6.13"
  }
 },
 "nbformat": 4,
 "nbformat_minor": 4
}
